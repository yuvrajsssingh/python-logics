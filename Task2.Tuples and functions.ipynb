{
 "cells": [
  {
   "cell_type": "code",
   "execution_count": 7,
   "id": "9e4914fa",
   "metadata": {},
   "outputs": [
    {
     "name": "stdout",
     "output_type": "stream",
     "text": [
      "Nearest Kth tuple is : (4, 5, 6)\n"
     ]
    }
   ],
   "source": [
    "#1. Closest Pair to Kth index element in Tuple\n",
    "my_tuple=[(1,2,3),(34,45),(4,5,6),(67,8,9)]\n",
    "t=(9,8)\n",
    "K=1\n",
    "def key_func(a):\n",
    "    return abs(a[K-1]-t[K-1])\n",
    "sorting=sorted(my_tuple,key=key_func)\n",
    "res=sorting[0]\n",
    "print(f\"Nearest Kth tuple is : {res}\")"
   ]
  },
  {
   "cell_type": "code",
   "execution_count": 11,
   "id": "0a5459cd",
   "metadata": {},
   "outputs": [
    {
     "name": "stdout",
     "output_type": "stream",
     "text": [
      "extracted elements are : [(5, 6, 7), (6, 8, 10), (7, 13)]\n"
     ]
    }
   ],
   "source": [
    "#2.Join Tuples if similar initial element\n",
    "list1=[(5, 6), (5, 7), (6, 8), (6, 10), (7, 13)]\n",
    "r=[]\n",
    "for num in list1:\n",
    "    if r and r[-1][0]==num[0]:\n",
    "        r[-1].extend(num[1:])\n",
    "    else:\n",
    "        r.append([e for e in num])\n",
    "r=list(map(tuple,r))\n",
    "print(f\"extracted elements are : {r}\")"
   ]
  },
  {
   "cell_type": "code",
   "execution_count": 12,
   "id": "82c36ba4",
   "metadata": {},
   "outputs": [
    {
     "name": "stdout",
     "output_type": "stream",
     "text": [
      "sorted tuples:[(99, 100, 11), (0, 100, 1, 99), (10, 9, 11, 8), (9, 2, 3, 4)]\n"
     ]
    }
   ],
   "source": [
    "#3.program to Sort Tuples by their Maximum element\n",
    "def element(s):\n",
    "    a=max(s)\n",
    "    return a\n",
    "list1=[(99,100,11),(9,2,3,4),(10,9,11,8),(0,100,1,99)]\n",
    "list1.sort(key=element,reverse=True)\n",
    "print(f\"sorted tuples:{list1}\")"
   ]
  },
  {
   "cell_type": "code",
   "execution_count": 13,
   "id": "7d278e69",
   "metadata": {},
   "outputs": [
    {
     "name": "stdout",
     "output_type": "stream",
     "text": [
      "tuple :(2, 1, 4)\n"
     ]
    }
   ],
   "source": [
    "# 4.AND operation between Tuples\n",
    "tuple1=(10,9,5)\n",
    "tuple2=(2,5,6)\n",
    "result=tuple([i&j for i,j in zip(tuple1,tuple2)])\n",
    "print(f\"tuple :{result}\")"
   ]
  },
  {
   "cell_type": "code",
   "execution_count": 17,
   "id": "e3e3a199",
   "metadata": {},
   "outputs": [
    {
     "name": "stdout",
     "output_type": "stream",
     "text": [
      "Symmetric tuples: [(1, 2, 1), (4, 5, 4)]\n"
     ]
    }
   ],
   "source": [
    "#5.extract symmetric tuple\n",
    "def symmetric(t):\n",
    "    return t==t[::-1]\n",
    "def extract(list1):\n",
    "    a=[t for t in list1 if symmetric(t)]\n",
    "    return a\n",
    "list1=[(1,2,1),(4,5,4),(7,8,8)]\n",
    "tuple1=extract(list1)\n",
    "print(f\"Symmetric tuples: {tuple1}\")"
   ]
  },
  {
   "cell_type": "code",
   "execution_count": 18,
   "id": "3900f6a5",
   "metadata": {},
   "outputs": [
    {
     "name": "stdout",
     "output_type": "stream",
     "text": [
      "enter list items here: abc def gfh bcd kle\n",
      "alphabetically sorted list: ['abc', 'bcd', 'def', 'gfh', 'kle']\n"
     ]
    }
   ],
   "source": [
    "#6.create function that takes list of strings and returns list sorted alphabetically\n",
    "def sorting(mylist):\n",
    "    list_sort=sorted(mylist)\n",
    "    return list_sort\n",
    "unsorted=input(\"enter list items here: \")\n",
    "unsortedl=unsorted.split()\n",
    "list_sort=sorting(unsortedl)\n",
    "print(f\"alphabetically sorted list: {list_sort}\")"
   ]
  },
  {
   "cell_type": "code",
   "execution_count": 19,
   "id": "68185e2e",
   "metadata": {},
   "outputs": [
    {
     "name": "stdout",
     "output_type": "stream",
     "text": [
      "apple and orange\n",
      "the number of vowels in given string is: 6\n"
     ]
    }
   ],
   "source": [
    "# 7.counting number of vowels in given string\n",
    "def c_vowels(string):\n",
    "    vowels=set(\"aeiouAEIOU\")\n",
    "    count=sum(1 for char in string if char in vowels)\n",
    "    return count\n",
    "\n",
    "strings=input()\n",
    "result=c_vowels(strings)\n",
    "print(\"the number of vowels in given string is: {}\".format(result))"
   ]
  },
  {
   "cell_type": "code",
   "execution_count": 20,
   "id": "9484b78e",
   "metadata": {},
   "outputs": [
    {
     "name": "stdout",
     "output_type": "stream",
     "text": [
      "enter the string here: the quick brown fox jumps over the lazy dog\n",
      "String is pangram\n"
     ]
    }
   ],
   "source": [
    "#8.program to check if given string is pangram(contains all letters of alphabets)\n",
    "def pangram(string):\n",
    "    string=string.lower()\n",
    "    chars=set(char for char in string if char.isalpha())\n",
    "    return len(chars)==26\n",
    "\n",
    "inp_str=input(\"enter the string here: \")\n",
    "output=pangram(inp_str)\n",
    "if output:\n",
    "    print(\"String is pangram\")\n",
    "else:\n",
    "    print(\"OOPS try again\")"
   ]
  },
  {
   "cell_type": "code",
   "execution_count": 21,
   "id": "433f038c",
   "metadata": {},
   "outputs": [
    {
     "name": "stdout",
     "output_type": "stream",
     "text": [
      "enter the sentence to be reversed: enter the string here: the quick brown fox jumps over the lazy dog\n",
      "original sentence: enter the string here: the quick brown fox jumps over the lazy dog \n",
      "reversed sentence: dog lazy the over jumps fox brown quick the here: string the enter\n"
     ]
    }
   ],
   "source": [
    "# 9.function to reverse a string of sentence\n",
    "def rev(sentence):\n",
    "    reverse=' '.join(sentence.split()[::-1])\n",
    "    return reverse\n",
    "\n",
    "original=input(\"enter the sentence to be reversed: \")\n",
    "reverse=rev(original)\n",
    "print(f\"original sentence: {original} \\nreversed sentence: {reverse}\")"
   ]
  },
  {
   "cell_type": "code",
   "execution_count": 22,
   "id": "39150ce2",
   "metadata": {},
   "outputs": [
    {
     "name": "stdout",
     "output_type": "stream",
     "text": [
      "radar\n",
      "the string radar is palindrome\n"
     ]
    }
   ],
   "source": [
    "#10.checking whether the given string is palindrome or not\n",
    "def palindrome_str(s):\n",
    "    s=''.join(e.lower() for e in s if e.isalnum())\n",
    "    return s==s[::-1]\n",
    "\n",
    "word=str(input())\n",
    "\n",
    "if palindrome_str(word):\n",
    "    print(f\"the string {word} is palindrome\")\n",
    "else:\n",
    "    print(\"It's not a palindrome string\")"
   ]
  },
  {
   "cell_type": "code",
   "execution_count": 1,
   "id": "cb5b423b",
   "metadata": {},
   "outputs": [
    {
     "name": "stdout",
     "output_type": "stream",
     "text": [
      "enter the number:5\n"
     ]
    },
    {
     "data": {
      "text/plain": [
       "120"
      ]
     },
     "execution_count": 1,
     "metadata": {},
     "output_type": "execute_result"
    }
   ],
   "source": [
    "#11.# Write a program to create a recursive function to calculate the factorial of number.\n",
    "def factorial(n):\n",
    "    if n==1:\n",
    "        return 1\n",
    "    else:\n",
    "        return n*factorial(n-1)\n",
    "factorial(int(input(\"enter the number:\")))"
   ]
  },
  {
   "cell_type": "code",
   "execution_count": 4,
   "id": "0b89faea",
   "metadata": {},
   "outputs": [
    {
     "name": "stdout",
     "output_type": "stream",
     "text": [
      "Twin Prime: \n",
      " 3 and 5\n",
      " 5 and 7\n",
      " 11 and 13\n",
      " 17 and 19\n",
      " 29 and 31\n",
      " 41 and 43\n",
      " 59 and 61\n",
      " 71 and 73\n"
     ]
    }
   ],
   "source": [
    "#12. Write a program to print twin primes less than 100. If two consecutive odd numbers are both prime then they are known as twin prime\n",
    "def checkPrime(num):\n",
    "    for n in range (2, num):\n",
    "        if num % n == 0:\n",
    "            return False\n",
    "    return True\n",
    "\n",
    "def twinPrime(num):\n",
    "    for f in range(2, num):\n",
    "        s = f + 2\n",
    "        if (checkPrime(f) and checkPrime(s)):\n",
    "            print(\" {0} and {1}\".format(f, s))\n",
    "\n",
    "print(\"Twin Prime: \")\n",
    "twinPrime(100)"
   ]
  }
 ],
 "metadata": {
  "kernelspec": {
   "display_name": "Python 3 (ipykernel)",
   "language": "python",
   "name": "python3"
  },
  "language_info": {
   "codemirror_mode": {
    "name": "ipython",
    "version": 3
   },
   "file_extension": ".py",
   "mimetype": "text/x-python",
   "name": "python",
   "nbconvert_exporter": "python",
   "pygments_lexer": "ipython3",
   "version": "3.10.9"
  }
 },
 "nbformat": 4,
 "nbformat_minor": 5
}

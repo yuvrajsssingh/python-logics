{
 "cells": [
  {
   "cell_type": "code",
   "execution_count": 1,
   "id": "8d2f524e",
   "metadata": {},
   "outputs": [
    {
     "name": "stdout",
     "output_type": "stream",
     "text": [
      "Yes\n"
     ]
    }
   ],
   "source": [
    "a = (1, \"sam\" , \"pallavi\") \n",
    "if \"sam\" in a : \n",
    "    print(\"Yes\") \n",
    "else : \n",
    "    print(\"no\")"
   ]
  },
  {
   "cell_type": "code",
   "execution_count": 3,
   "id": "81405219",
   "metadata": {},
   "outputs": [
    {
     "name": "stdout",
     "output_type": "stream",
     "text": [
      "(1, 'sam', 'pallavi')\n"
     ]
    }
   ],
   "source": [
    "a = (1, \"sam\" , \"pallavi\") \n",
    "print(a)\n",
    "del(a)\n",
    "print(a)"
   ]
  },
  {
   "cell_type": "code",
   "execution_count": 7,
   "id": "e577e2da",
   "metadata": {},
   "outputs": [
    {
     "data": {
      "text/plain": [
       "{'brand': 'kia', 'model': 'celtos', 'year': 2022}"
      ]
     },
     "execution_count": 7,
     "metadata": {},
     "output_type": "execute_result"
    }
   ],
   "source": [
    "# dictionary>>A dictionary is a collection which is unorderd,changable and unindexed. in  pyrhon , dictionary are written witch curly brackets{}\n",
    "# and they have keys and values means dictionary contains two things . 1.key 2. value\n",
    "# examplw\n",
    "a={\"brand\":\"kia\",\"model\":\"celtos\",\"year\":2022}\n",
    "a\n"
   ]
  },
  {
   "cell_type": "code",
   "execution_count": 8,
   "id": "311fe0c0",
   "metadata": {},
   "outputs": [
    {
     "name": "stdout",
     "output_type": "stream",
     "text": [
      "celtos\n"
     ]
    }
   ],
   "source": [
    "# Accesing item\n",
    "a={\"brand\":\"kia\",\"model\":\"celtos\",\"year\":2022}\n",
    "b=a[\"model\"]\n",
    "print(b)"
   ]
  },
  {
   "cell_type": "code",
   "execution_count": 9,
   "id": "7fa12f37",
   "metadata": {},
   "outputs": [
    {
     "name": "stdout",
     "output_type": "stream",
     "text": [
      "celtos\n"
     ]
    }
   ],
   "source": [
    "# get\n",
    "b=a.get(\"model\")\n",
    "print(b)"
   ]
  },
  {
   "cell_type": "code",
   "execution_count": 10,
   "id": "7f0ef6db",
   "metadata": {},
   "outputs": [
    {
     "name": "stdout",
     "output_type": "stream",
     "text": [
      "brand\n",
      "model\n",
      "year\n"
     ]
    }
   ],
   "source": [
    "# loop through a dictionary\n",
    "a={\"brand\":\"kia\",\"model\":\"celtos\",\"year\":2022}\n",
    "for i in a:\n",
    "    print(i)"
   ]
  },
  {
   "cell_type": "code",
   "execution_count": 11,
   "id": "58914d21",
   "metadata": {},
   "outputs": [
    {
     "name": "stdout",
     "output_type": "stream",
     "text": [
      "kia\n",
      "celtos\n",
      "2022\n"
     ]
    }
   ],
   "source": [
    "a={\"brand\":\"kia\",\"model\":\"celtos\",\"year\":2022}\n",
    "for i in a:\n",
    "    print(a[i])"
   ]
  },
  {
   "cell_type": "code",
   "execution_count": 12,
   "id": "eaa601e1",
   "metadata": {},
   "outputs": [
    {
     "name": "stdout",
     "output_type": "stream",
     "text": [
      "kia\n",
      "celtos\n",
      "2022\n"
     ]
    }
   ],
   "source": [
    "a={\"brand\":\"kia\",\"model\":\"celtos\",\"year\":2022}\n",
    "for i in a.values():\n",
    "    print(i)"
   ]
  },
  {
   "cell_type": "code",
   "execution_count": 14,
   "id": "d9e3fb6f",
   "metadata": {},
   "outputs": [
    {
     "name": "stdout",
     "output_type": "stream",
     "text": [
      "brand kia\n",
      "model celtos\n",
      "year 2022\n"
     ]
    }
   ],
   "source": [
    "a={\"brand\":\"kia\",\"model\":\"celtos\",\"year\":2022}\n",
    "for x,y in a. items():\n",
    "    print(x,y)\n",
    "    "
   ]
  },
  {
   "cell_type": "code",
   "execution_count": 15,
   "id": "5cea9dbf",
   "metadata": {},
   "outputs": [
    {
     "name": "stdout",
     "output_type": "stream",
     "text": [
      "{'brand': 'kia', 'model': 'celtos', 'year': 2022, 'km_driven': 5000}\n"
     ]
    }
   ],
   "source": [
    "# adding new element in dictionary\n",
    "a={\"brand\":\"kia\",\"model\":\"celtos\",\"year\":2022}\n",
    "a['km_driven']=5000\n",
    "print(a)"
   ]
  },
  {
   "cell_type": "code",
   "execution_count": 17,
   "id": "c9f0e70e",
   "metadata": {},
   "outputs": [
    {
     "name": "stdout",
     "output_type": "stream",
     "text": [
      "tota length 3\n"
     ]
    }
   ],
   "source": [
    "# pre - defined function in dictionary\n",
    "# len()\n",
    "a={\"brand\":\"kia\",\"model\":\"celtos\",\"year\":2022}\n",
    "x=len(a)\n",
    "print(\"tota length\",x)"
   ]
  },
  {
   "cell_type": "code",
   "execution_count": 19,
   "id": "3743d743",
   "metadata": {},
   "outputs": [
    {
     "name": "stdout",
     "output_type": "stream",
     "text": [
      "{'brand': 'kia', 'model': 'celtos', 'year': 2022}\n",
      "{'brand': 'kia', 'year': 2022}\n"
     ]
    }
   ],
   "source": [
    "a={\"brand\":\"kia\",\"model\":\"celtos\",\"year\":2022}\n",
    "print(a)\n",
    "# a.pop(a)\n",
    "a.pop(\"model\")\n",
    "print(a)"
   ]
  },
  {
   "cell_type": "code",
   "execution_count": 20,
   "id": "eb0f23b8",
   "metadata": {},
   "outputs": [
    {
     "name": "stdout",
     "output_type": "stream",
     "text": [
      "{'brand': 'kia', 'model': 'celtos', 'year': 2022}\n",
      "{'brand': 'kia', 'model': 'celtos'}\n",
      "{'brand': 'kia'}\n"
     ]
    }
   ],
   "source": [
    "a={\"brand\":\"kia\",\"model\":\"celtos\",\"year\":2022}\n",
    "print(a)\n",
    "a.popitem()\n",
    "print(a)\n",
    "a.popitem()\n",
    "print(a)"
   ]
  },
  {
   "cell_type": "code",
   "execution_count": 21,
   "id": "394d96de",
   "metadata": {},
   "outputs": [
    {
     "ename": "NameError",
     "evalue": "name 'a' is not defined",
     "output_type": "error",
     "traceback": [
      "\u001b[1;31m---------------------------------------------------------------------------\u001b[0m",
      "\u001b[1;31mNameError\u001b[0m                                 Traceback (most recent call last)",
      "Cell \u001b[1;32mIn[21], line 6\u001b[0m\n\u001b[0;32m      4\u001b[0m \u001b[38;5;28;01mdel\u001b[39;00m a[\u001b[38;5;124m\"\u001b[39m\u001b[38;5;124mmodel\u001b[39m\u001b[38;5;124m\"\u001b[39m]\n\u001b[0;32m      5\u001b[0m \u001b[38;5;28;01mdel\u001b[39;00m a\n\u001b[1;32m----> 6\u001b[0m \u001b[38;5;28mprint\u001b[39m(a)\n",
      "\u001b[1;31mNameError\u001b[0m: name 'a' is not defined"
     ]
    }
   ],
   "source": [
    "# del\n",
    "\n",
    "a={\"brand\":\"kia\",\"model\":\"celtos\",\"year\":2022}\n",
    "del a[\"model\"]\n",
    "del a\n",
    "print(a)"
   ]
  },
  {
   "cell_type": "code",
   "execution_count": 22,
   "id": "2fa5d10d",
   "metadata": {},
   "outputs": [
    {
     "name": "stdout",
     "output_type": "stream",
     "text": [
      "{}\n"
     ]
    }
   ],
   "source": [
    "# clear\n",
    "a={\"brand\":\"kia\",\"model\":\"celtos\",\"year\":2022}\n",
    "a.clear()\n",
    "print(a)"
   ]
  },
  {
   "cell_type": "code",
   "execution_count": 23,
   "id": "37d79c6e",
   "metadata": {},
   "outputs": [
    {
     "name": "stdout",
     "output_type": "stream",
     "text": [
      "{'brand': 'kia', 'model': 'celtos', 'year': 2022}\n"
     ]
    }
   ],
   "source": [
    "# copy\n",
    "a={\"brand\":\"kia\",\"model\":\"celtos\",\"year\":2022}\n",
    "x=a.copy()\n",
    "print(x)"
   ]
  },
  {
   "cell_type": "code",
   "execution_count": 24,
   "id": "7eda56f2",
   "metadata": {},
   "outputs": [
    {
     "name": "stdout",
     "output_type": "stream",
     "text": [
      "{'firstkey': 0, 'secondkey': 0, 'thirdkey': 0}\n"
     ]
    }
   ],
   "source": [
    "# fromkeys\n",
    "a=('firstkey','secondkey','thirdkey')\n",
    "b=0\n",
    "c=dict.fromkeys(a,b)\n",
    "print(c)"
   ]
  },
  {
   "cell_type": "code",
   "execution_count": 25,
   "id": "1337d136",
   "metadata": {},
   "outputs": [
    {
     "name": "stdout",
     "output_type": "stream",
     "text": [
      "{'brand': 'kia', 'model': 'celtos', 'year': 2022, 'color': 'white'}\n"
     ]
    }
   ],
   "source": [
    "# setdefult\n",
    "a={\"brand\":\"kia\",\"model\":\"celtos\",\"year\":2022}\n",
    "x=a.setdefault(\"color\",'white')\n",
    "a['color']='white'\n",
    "print(a)"
   ]
  },
  {
   "cell_type": "code",
   "execution_count": 27,
   "id": "e586a39f",
   "metadata": {},
   "outputs": [
    {
     "name": "stdout",
     "output_type": "stream",
     "text": [
      "{'brand': 'kia', 'model': 'celtos', 'year': 2022, 'color': 'white'}\n",
      "{'brand': 'kia', 'model': 'celtos', 'year': 2022, 'color': 'black'}\n"
     ]
    }
   ],
   "source": [
    "# update\n",
    "a={\"brand\":\"kia\",\"model\":\"celtos\",\"year\":2022,'color':'white'}\n",
    "print(a)\n",
    "a.update({'color':'black'})\n",
    "print(a)"
   ]
  },
  {
   "cell_type": "code",
   "execution_count": 28,
   "id": "6851f378",
   "metadata": {},
   "outputs": [
    {
     "name": "stdout",
     "output_type": "stream",
     "text": [
      "<class 'set'>\n",
      "{'bad', 'good'}\n"
     ]
    }
   ],
   "source": [
    "# set\n",
    "a={'good','bad','good'}\n",
    "print(type(a))\n",
    "print(a)"
   ]
  },
  {
   "cell_type": "code",
   "execution_count": 29,
   "id": "2699ecc9",
   "metadata": {},
   "outputs": [
    {
     "name": "stdout",
     "output_type": "stream",
     "text": [
      "{'sam', 'raj', 'mohit'}\n"
     ]
    }
   ],
   "source": [
    "# typecasting list to set\n",
    "a=set(['mohit','sam','raj'])\n",
    "print(a)"
   ]
  },
  {
   "cell_type": "code",
   "execution_count": 30,
   "id": "de40c0d6",
   "metadata": {},
   "outputs": [
    {
     "name": "stdout",
     "output_type": "stream",
     "text": [
      "{'sam', 'raj', 'mohit', 'rahul'}\n"
     ]
    }
   ],
   "source": [
    "# adding element to set\n",
    "a=set(['mohit','sam','raj'])\n",
    "a.add(\"rahul\")\n",
    "print(a)\n"
   ]
  },
  {
   "cell_type": "code",
   "execution_count": 31,
   "id": "e6acf56d",
   "metadata": {},
   "outputs": [
    {
     "ename": "AttributeError",
     "evalue": "'frozenset' object has no attribute 'add'",
     "output_type": "error",
     "traceback": [
      "\u001b[1;31m---------------------------------------------------------------------------\u001b[0m",
      "\u001b[1;31mAttributeError\u001b[0m                            Traceback (most recent call last)",
      "Cell \u001b[1;32mIn[31], line 3\u001b[0m\n\u001b[0;32m      1\u001b[0m \u001b[38;5;66;03m# frozenset\u001b[39;00m\n\u001b[0;32m      2\u001b[0m a\u001b[38;5;241m=\u001b[39m\u001b[38;5;28mfrozenset\u001b[39m([\u001b[38;5;124m'\u001b[39m\u001b[38;5;124ma\u001b[39m\u001b[38;5;124m'\u001b[39m,\u001b[38;5;124m'\u001b[39m\u001b[38;5;124mb\u001b[39m\u001b[38;5;124m'\u001b[39m,\u001b[38;5;124m'\u001b[39m\u001b[38;5;124mc\u001b[39m\u001b[38;5;124m'\u001b[39m])\n\u001b[1;32m----> 3\u001b[0m a\u001b[38;5;241m.\u001b[39madd(\u001b[38;5;124m\"\u001b[39m\u001b[38;5;124me\u001b[39m\u001b[38;5;124m\"\u001b[39m)\n\u001b[0;32m      4\u001b[0m \u001b[38;5;28mprint\u001b[39m(a)\n",
      "\u001b[1;31mAttributeError\u001b[0m: 'frozenset' object has no attribute 'add'"
     ]
    }
   ],
   "source": [
    "# frozenset\n",
    "a=frozenset(['a','b','c'])\n",
    "a.add(\"e\")\n",
    "print(a)"
   ]
  },
  {
   "cell_type": "code",
   "execution_count": 32,
   "id": "88a0f030",
   "metadata": {},
   "outputs": [
    {
     "name": "stdout",
     "output_type": "stream",
     "text": [
      "{'rahul', 'pooja', 'karan', 'sam', 'mohit'}\n"
     ]
    }
   ],
   "source": [
    "# union\n",
    "a={'sam','rahul','mohit'}\n",
    "b={'karan','pooja'}\n",
    "c=a.union(b)\n",
    "print(c)\n"
   ]
  },
  {
   "cell_type": "code",
   "execution_count": 35,
   "id": "29867525",
   "metadata": {},
   "outputs": [
    {
     "name": "stdout",
     "output_type": "stream",
     "text": [
      "{'pooja', 'rohan'}\n"
     ]
    }
   ],
   "source": [
    "# intersection\n",
    "a={'mohit','sam','pooja','rohan'}\n",
    "b={'pooja','rohan','kriti'}\n",
    "c=a.intersection(b)\n",
    "print(c)"
   ]
  },
  {
   "cell_type": "code",
   "execution_count": 37,
   "id": "b2d34066",
   "metadata": {},
   "outputs": [
    {
     "name": "stdout",
     "output_type": "stream",
     "text": [
      "{'kriti'}\n"
     ]
    },
    {
     "ename": "NameError",
     "evalue": "name 'd' is not defined",
     "output_type": "error",
     "traceback": [
      "\u001b[1;31m---------------------------------------------------------------------------\u001b[0m",
      "\u001b[1;31mNameError\u001b[0m                                 Traceback (most recent call last)",
      "Cell \u001b[1;32mIn[37], line 7\u001b[0m\n\u001b[0;32m      5\u001b[0m c\u001b[38;5;241m=\u001b[39mb\u001b[38;5;241m.\u001b[39mdifference(a)\n\u001b[0;32m      6\u001b[0m \u001b[38;5;28mprint\u001b[39m(c)\n\u001b[1;32m----> 7\u001b[0m \u001b[38;5;28mprint\u001b[39m(d)\n",
      "\u001b[1;31mNameError\u001b[0m: name 'd' is not defined"
     ]
    }
   ],
   "source": [
    "# diffence of two sets using diffrence()function\n",
    "a={'mohit','sam','pooja','rohan'}\n",
    "b={'pooja','rohan','kriti'}\n",
    "c=a.difference(b)\n",
    "c=b.difference(a)\n",
    "print(c)\n",
    "print(d)"
   ]
  },
  {
   "cell_type": "code",
   "execution_count": 38,
   "id": "3f511620",
   "metadata": {},
   "outputs": [
    {
     "name": "stdout",
     "output_type": "stream",
     "text": [
      "{'sam', 'mohit', 'pooja', 'rohan'}\n",
      "set()\n"
     ]
    }
   ],
   "source": [
    "# clear\n",
    "a={'mohit','sam','pooja','rohan'}\n",
    "print(a)\n",
    "a.clear()\n",
    "print(a)"
   ]
  },
  {
   "cell_type": "code",
   "execution_count": 1,
   "id": "0989c70b",
   "metadata": {},
   "outputs": [],
   "source": [
    "# Q:1 you are given of items , each repsented as a tuple contaning the item name and its price.whrite a function that takes this list as a input and return the total cost of all the items.\n",
    "# Q:2 whrite a function that takes a list of integers as input and return a tuple contaning the minimum values and maximum from the list\n",
    "#  Q:3 create a dictionary representing a booklist , where the keys are books titles,and the values are dictionary contaning 'author','genre','year',and 'rating'\n",
    "#     information . write a function that takes the booklist as input  and return a list of books sorted by thir rating in desending order\n",
    "# Q:4 whrite a function that takes a list of dictionaries , each repesenting a person with keys 'name'and 'age'. the function should return a new list of dictionaries , sorted by age in ascending order"
   ]
  },
  {
   "cell_type": "code",
   "execution_count": 3,
   "id": "195318de",
   "metadata": {},
   "outputs": [
    {
     "name": "stdout",
     "output_type": "stream",
     "text": [
      "[('momos', 40), ('pizza', 100), ('chips', 10)]\n",
      "the total cost is: 150\n"
     ]
    }
   ],
   "source": [
    "# Q:1\n",
    "item=[('momos',40),('pizza',100),('chips',10)]\n",
    "def total(a):\n",
    "     x=0\n",
    "     for item in a:\n",
    "         x=x+item[1]\n",
    "     return x\n",
    "print(item)\n",
    "total_cost=total(item)\n",
    "print(\"the total cost is:\",total_cost)\n"
   ]
  },
  {
   "cell_type": "code",
   "execution_count": 2,
   "id": "7ca9a73a",
   "metadata": {},
   "outputs": [
    {
     "name": "stdout",
     "output_type": "stream",
     "text": [
      "enter size:5\n",
      "enter number:1\n",
      "enter number:2\n",
      "enter number:3\n",
      "enter number:4\n",
      "enter number:5\n",
      "[1, 2, 3, 4, 5]\n",
      "maximum number is = 5\n",
      "maximum number is = 1\n"
     ]
    }
   ],
   "source": [
    "# Q:2\n",
    "a=[]\n",
    "size=int(input(\"enter size:\"))\n",
    "for i in range (size):\n",
    "    val = int(input(\"enter number:\"))\n",
    "    a.append(val)\n",
    "print(a)\n",
    "b=max(a)\n",
    "print(\"maximum number is =\",b) \n",
    "c=min(a) \n",
    "print(\"maximum number is =\",c) \n"
   ]
  },
  {
   "cell_type": "code",
   "execution_count": 1,
   "id": "6a1a5506",
   "metadata": {},
   "outputs": [
    {
     "name": "stdout",
     "output_type": "stream",
     "text": [
      "[('Book1', {'author': 'rahul', 'genre': 'Fiction', 'year': 2005, 'rating': 4}), ('Book2', {'author': 'yuvraj', 'genre': 'Fantasy', 'year': 2010, 'rating': 3}), ('Book3', {'author': 'ram', 'genre': 'Mystery', 'year': 2018, 'rating': 2})]\n"
     ]
    }
   ],
   "source": [
    "booklist = {\n",
    "    'Book1': {'author': 'rahul', 'genre': 'Fiction', 'year': 2005, 'rating': 4},\n",
    "    'Book2': {'author': 'yuvraj', 'genre': 'Fantasy', 'year': 2010, 'rating': 3},\n",
    "    'Book3': {'author': 'ram', 'genre': 'Mystery', 'year': 2018, 'rating': 2},\n",
    "    \n",
    "}\n",
    "def sort(booklist):\n",
    "    books = sorted(booklist.items(), key=lambda x: x[1]['rating'],reverse=True)\n",
    "    return books\n",
    "rating = sort(booklist)\n",
    "print(rating)"
   ]
  },
  {
   "cell_type": "code",
   "execution_count": 2,
   "id": "73464301",
   "metadata": {},
   "outputs": [
    {
     "name": "stdout",
     "output_type": "stream",
     "text": [
      "[{'name': 'ram', 'age': 20}, {'name': 'yuvraj', 'age': 23}, {'name': 'rahul', 'age': 25}]\n"
     ]
    }
   ],
   "source": [
    "\n",
    "def sort_people_by_age(people):\n",
    "    sorted_people = sorted(people,key=lambda x:x['age'])\n",
    "    return sorted_people\n",
    "people = [\n",
    "    {'name': 'rahul', 'age': 25},\n",
    "    {'name': 'yuvraj', 'age': 23},\n",
    "    {'name': 'ram', 'age': 20}\n",
    "]\n",
    "sorted_people = sort_people_by_age(people)\n",
    "print(sorted_people)\n"
   ]
  },
  {
   "cell_type": "code",
   "execution_count": null,
   "id": "ccf0f588",
   "metadata": {},
   "outputs": [],
   "source": []
  }
 ],
 "metadata": {
  "kernelspec": {
   "display_name": "Python 3 (ipykernel)",
   "language": "python",
   "name": "python3"
  },
  "language_info": {
   "codemirror_mode": {
    "name": "ipython",
    "version": 3
   },
   "file_extension": ".py",
   "mimetype": "text/x-python",
   "name": "python",
   "nbconvert_exporter": "python",
   "pygments_lexer": "ipython3",
   "version": "3.11.5"
  }
 },
 "nbformat": 4,
 "nbformat_minor": 5
}

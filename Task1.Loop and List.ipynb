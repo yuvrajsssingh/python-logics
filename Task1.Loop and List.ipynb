{
 "cells": [
  {
   "cell_type": "code",
   "execution_count": 17,
   "id": "5306dccb",
   "metadata": {},
   "outputs": [
    {
     "name": "stdout",
     "output_type": "stream",
     "text": [
      "enter start value: 1\n",
      "enter ending value: 50\n",
      "prime numbers within the range are: \n",
      "2\n",
      "3\n",
      "5\n",
      "7\n",
      "11\n",
      "13\n",
      "17\n",
      "19\n",
      "23\n",
      "29\n",
      "31\n",
      "37\n",
      "41\n",
      "43\n",
      "47\n"
     ]
    }
   ],
   "source": [
    "#1.loop that prints all prime numbers between given range\n",
    "start=int(input(\"enter start value: \"))\n",
    "end=int(input(\"enter ending value: \"))\n",
    "print(\"prime numbers within the range are: \")\n",
    "for num in range(start,end+1):\n",
    "    if num>1:\n",
    "        for i in range(2,num):\n",
    "            if(num%i==0):\n",
    "                break\n",
    "        else:\n",
    "            print(num)"
   ]
  },
  {
   "cell_type": "code",
   "execution_count": 20,
   "id": "2761759c",
   "metadata": {},
   "outputs": [
    {
     "name": "stdout",
     "output_type": "stream",
     "text": [
      "enter the number : 123456789\n",
      "reversed number:  987654321\n"
     ]
    }
   ],
   "source": [
    "#2.reversing a integer\n",
    "number=int(input(\"enter the number : \"))\n",
    "reverse=0\n",
    "while number>0:\n",
    "            remainder=number%10\n",
    "            reverse=(reverse * 10)+remainder\n",
    "            number=number//10\n",
    "print(\"reversed number: \",reverse)"
   ]
  },
  {
   "cell_type": "code",
   "execution_count": 23,
   "id": "b377e581",
   "metadata": {},
   "outputs": [
    {
     "name": "stdout",
     "output_type": "stream",
     "text": [
      "sam 1\n",
      "tom 2\n",
      "mary 3\n",
      "jerry 4\n",
      "riya 5\n",
      "jenny 6\n",
      "ken 7\n"
     ]
    }
   ],
   "source": [
    "#3.program to add values of two list alternatively in new list\n",
    "list1=[1,2,3,4,5,6,7]\n",
    "list2=['sam','tom','mary','jerry','riya','jenny','ken']\n",
    "for i,j in zip(list2,list1):\n",
    "    print(i,j)"
   ]
  },
  {
   "cell_type": "code",
   "execution_count": 1,
   "id": "68a36157",
   "metadata": {},
   "outputs": [
    {
     "name": "stdout",
     "output_type": "stream",
     "text": [
      "*****\n",
      "$****\n",
      "$$***\n",
      "$$$**\n",
      "$$$$*\n"
     ]
    }
   ],
   "source": [
    "# 4.pattern\n",
    "for i in range(5, 0, -1):\n",
    "    for j in range(5 - i):\n",
    "        print(\"$\", end='')\n",
    "    for k in range(i):\n",
    "        print(\"*\", end='')\n",
    "    print()"
   ]
  },
  {
   "cell_type": "code",
   "execution_count": 4,
   "id": "4c40d9d0",
   "metadata": {},
   "outputs": [
    {
     "name": "stdout",
     "output_type": "stream",
     "text": [
      "2002,2009,2016,2023,2037,2044,2051,2058,2072,2079,2086,2093,2107,2114,2121,2128,2142,2149,2156,2163,2177,2184,2191,2198,2212,2219,2226,2233,2247,2254,2261,2268,2282,2289,2296,2303,2317,2324,2331,2338,2352,2359,2366,2373,2387,2394,2401,2408,2422,2429,2436,2443,2457,2464,2471,2478,2492,2499,2506,2513,2527,2534,2541,2548,2562,2569,2576,2583,2597,2604,2611,2618,2632,2639,2646,2653,2667,2674,2681,2688,2702,2709,2716,2723,2737,2744,2751,2758,2772,2779,2786,2793,2807,2814,2821,2828,2842,2849,2856,2863,2877,2884,2891,2898,2912,2919,2926,2933,2947,2954,2961,2968,2982,2989,2996,3003,3017,3024,3031,3038,3052,3059,3066,3073,3087,3094,3101,3108,3122,3129,3136,3143,3157,3164,3171,3178,3192,3199\n"
     ]
    }
   ],
   "source": [
    "#5.Write a program which will find all such numbers which are divisible by 7 but are not a multiple of 5,\n",
    "# between 2000 and 3200 (both included).\n",
    "# The numbers obtained should be printed in a comma-separated sequence on a single line.\n",
    "l=[]\n",
    "for i in range(2000, 3201):\n",
    "    if (i%7==0) and (i%5!=0):\n",
    "        l.append(str(i))\n",
    "\n",
    "print( ','.join(l))"
   ]
  },
  {
   "cell_type": "code",
   "execution_count": 7,
   "id": "94d087ad",
   "metadata": {},
   "outputs": [
    {
     "name": "stdout",
     "output_type": "stream",
     "text": [
      "AbcA\n",
      "UPPER CASE 2\n",
      "LOWER CASE 2\n"
     ]
    }
   ],
   "source": [
    "# 6.Write a program that accepts a sentence and calculate the number of upper case letters and lower case letters.\n",
    "s = input()\n",
    "d={\"UPPER CASE\":0, \"LOWER CASE\":0}\n",
    "for c in s:\n",
    "    if c.isupper():\n",
    "        d[\"UPPER CASE\"]+=1\n",
    "    elif c.islower():\n",
    "        d[\"LOWER CASE\"]+=1\n",
    "    else:\n",
    "        pass\n",
    "print(\"UPPER CASE\", d[\"UPPER CASE\"]) \n",
    "print(\"LOWER CASE\", d[\"LOWER CASE\"]) "
   ]
  },
  {
   "cell_type": "code",
   "execution_count": 10,
   "id": "a57639c7",
   "metadata": {},
   "outputs": [
    {
     "name": "stdout",
     "output_type": "stream",
     "text": [
      "Hello world Practice makes perfect\n",
      "Hello world Practice makes perfect\n",
      "Hello world Practice makes perfect\n",
      "\n",
      "HELLO WORLD PRACTICE MAKES PERFECT\n",
      "HELLO WORLD PRACTICE MAKES PERFECT\n",
      "HELLO WORLD PRACTICE MAKES PERFECT\n"
     ]
    }
   ],
   "source": [
    "#7.Write a program that accepts sequence of lines as input and prints the lines after making all characters in the sentence capitalized.\n",
    "lines = []\n",
    "while True:\n",
    "    s = input()\n",
    "    if s:\n",
    "        lines.append(s.upper())\n",
    "    else:\n",
    "        break;\n",
    "\n",
    "for sentence in lines:\n",
    "    print (sentence)"
   ]
  },
  {
   "cell_type": "code",
   "execution_count": 12,
   "id": "a40367d8",
   "metadata": {},
   "outputs": [
    {
     "name": "stdout",
     "output_type": "stream",
     "text": [
      "4\n",
      "{1: 1, 2: 4, 3: 9, 4: 16}\n"
     ]
    }
   ],
   "source": [
    "#8.With a given integral number n, write a program to generate a dictionary that contains (i, i*i) such that is an integral number between 1 and n (both included). and then the program should print the dictionary.\n",
    "n=int(input())\n",
    "d=dict()\n",
    "for i in range(1,n+1):\n",
    "    d[i]=i*i\n",
    "\n",
    "print(d)"
   ]
  },
  {
   "cell_type": "code",
   "execution_count": 19,
   "id": "45da285c",
   "metadata": {},
   "outputs": [
    {
     "name": "stdout",
     "output_type": "stream",
     "text": [
      "enter target value: 13\n",
      "[0, 2]\n"
     ]
    }
   ],
   "source": [
    "#9.# Given an array of integers nums and an integer target, return indices of the two numbers such that they add up to target\n",
    "# You may assume that each input would have exactly one solution, and you may not use the same element twice.\n",
    "def two_sum(num,target):\n",
    "    n=len(num)\n",
    "    for i in range(n):\n",
    "        for j in range(i+1,n):\n",
    "            if num[i]+num[j]==target:\n",
    "                return [i,j]\n",
    "    return None\n",
    "num=[2,7,11,14,13,15]\n",
    "target=int(input(\"enter target value: \"))\n",
    "result=two_sum(num,target)\n",
    "print(result)"
   ]
  },
  {
   "cell_type": "code",
   "execution_count": 20,
   "id": "ef22b5b4",
   "metadata": {},
   "outputs": [
    {
     "name": "stdout",
     "output_type": "stream",
     "text": [
      "enter the year: 2020\n",
      "2020 is a leap year\n"
     ]
    }
   ],
   "source": [
    "#10. program to check if given year is leap year or not\n",
    "def leap(year):\n",
    "    if (year % 4 == 0 and year % 100 != 0) or (year % 400 == 0):\n",
    "        return True\n",
    "    else:\n",
    "        return False\n",
    "    \n",
    "year=int(input(\"enter the year: \"))\n",
    "if leap(year):\n",
    "    print(f\"{year} is a leap year\")\n",
    "else:\n",
    "    print(f\"it is not leap year\")\n"
   ]
  },
  {
   "cell_type": "code",
   "execution_count": 22,
   "id": "78e8e8f1",
   "metadata": {},
   "outputs": [
    {
     "name": "stdout",
     "output_type": "stream",
     "text": [
      "Largest Element: 8\n",
      "Smallest Element: 1\n"
     ]
    }
   ],
   "source": [
    "#11.Write a program that finds the largest and smallest elements in a list\n",
    "def find(elements):\n",
    "    if not elements:\n",
    "        return None, None \n",
    "\n",
    "    largest = smallest = elements[0]\n",
    "\n",
    "    for element in elements:\n",
    "        if element > largest:\n",
    "            largest = element\n",
    "        elif element < smallest:\n",
    "            smallest = element\n",
    "\n",
    "    return largest, smallest\n",
    "my_list = [3, 8, 2, 5, 1, 7, 4]\n",
    "largest_element, smallest_element = find(my_list)\n",
    "\n",
    "print(f\"Largest Element: {largest_element}\")\n",
    "print(f\"Smallest Element: {smallest_element}\")\n"
   ]
  },
  {
   "cell_type": "code",
   "execution_count": 23,
   "id": "07b17bd1",
   "metadata": {},
   "outputs": [
    {
     "name": "stdout",
     "output_type": "stream",
     "text": [
      "List 1: [1, 2, 3, 4, 5]\n",
      "List 2: [3, 4, 5, 6, 7]\n",
      "Common Elements: [3, 4, 5]\n"
     ]
    }
   ],
   "source": [
    "#12. Create a program that finds the common elements between two lists and stores them in a new list\n",
    "def find(list1, list2):\n",
    "    common_elements = [element for element in list1 if element in list2]\n",
    "    return common_elements\n",
    "\n",
    "# Example usage:\n",
    "list1 = [1, 2, 3, 4, 5]\n",
    "list2 = [3, 4, 5, 6, 7]\n",
    "\n",
    "common= find(list1, list2)\n",
    "\n",
    "print(f\"List 1: {list1}\")\n",
    "print(f\"List 2: {list2}\")\n",
    "print(f\"Common Elements: {common}\")\n"
   ]
  },
  {
   "cell_type": "code",
   "execution_count": 24,
   "id": "6641714d",
   "metadata": {},
   "outputs": [
    {
     "name": "stdout",
     "output_type": "stream",
     "text": [
      "Word with Maximum Length: strawberry\n",
      "Length: 10\n"
     ]
    }
   ],
   "source": [
    "#13.Given a list of words, find the word with the maximum length and its length\n",
    "def max_length(words):\n",
    "    if not words:\n",
    "        return None, 0 \n",
    "\n",
    "    max_length = max(words, key=len)\n",
    "    length = len(max_length)\n",
    "\n",
    "    return max_length,length\n",
    "\n",
    "# Example usage:\n",
    "word = [\"apple\", \"banana\", \"orange\", \"strawberry\", \"kiwi\"]\n",
    "\n",
    "max_length, length = max_length(word)\n",
    "\n",
    "if max_length:\n",
    "    print(f\"Word with Maximum Length: {max_length}\")\n",
    "    print(f\"Length: {length}\")\n",
    "else:\n",
    "    print(\"The list is empty.\")\n"
   ]
  },
  {
   "cell_type": "code",
   "execution_count": 26,
   "id": "8602137e",
   "metadata": {},
   "outputs": [
    {
     "name": "stdout",
     "output_type": "stream",
     "text": [
      "enter list of names:  Apple Abcd aditya aam\n",
      "name starting with A/a are: ['Apple', 'Abcd', 'aditya', 'aam']\n"
     ]
    }
   ],
   "source": [
    "#14.given list of names, print all names starting with letter A \n",
    "names=input(\"enter list of names: \")\n",
    "name_list=names.split()\n",
    "name_a=[name for name in name_list if name.startswith('A') or name.startswith('a')]\n",
    "print(f\"name starting with A/a are: {name_a}\")"
   ]
  },
  {
   "cell_type": "code",
   "execution_count": 29,
   "id": "35762c08",
   "metadata": {},
   "outputs": [
    {
     "name": "stdout",
     "output_type": "stream",
     "text": [
      "Enter a list of integers separated by spaces: 1 2 3 4 5 8 0 6 7 9\n",
      "Original list: [1, 2, 3, 4, 5, 8, 0, 6, 7, 9]\n",
      "Even numbers: [2, 4, 8, 0, 6]\n"
     ]
    }
   ],
   "source": [
    "#15.def find_even_numbers(input_list):\n",
    "def find_even_numbers(input_list):\n",
    "    even_numbers = [num for num in input_list if num % 2 == 0]\n",
    "    return even_numbers\n",
    "\n",
    "input_numbers = input(\"Enter a list of integers separated by spaces: \")\n",
    "numbers = list(map(int, input_numbers.split()))\n",
    "\n",
    "result = find_even_numbers(numbers)\n",
    "print(\"Original list:\", numbers)\n",
    "print(\"Even numbers:\", result)"
   ]
  },
  {
   "cell_type": "code",
   "execution_count": null,
   "id": "6ccf1483",
   "metadata": {},
   "outputs": [],
   "source": []
  }
 ],
 "metadata": {
  "kernelspec": {
   "display_name": "Python 3 (ipykernel)",
   "language": "python",
   "name": "python3"
  },
  "language_info": {
   "codemirror_mode": {
    "name": "ipython",
    "version": 3
   },
   "file_extension": ".py",
   "mimetype": "text/x-python",
   "name": "python",
   "nbconvert_exporter": "python",
   "pygments_lexer": "ipython3",
   "version": "3.10.9"
  }
 },
 "nbformat": 4,
 "nbformat_minor": 5
}
